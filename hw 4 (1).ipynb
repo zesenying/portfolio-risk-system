{
 "cells": [
  {
   "cell_type": "code",
   "execution_count": 6,
   "metadata": {
    "collapsed": true
   },
   "outputs": [
    {
     "name": "stdout",
     "output_type": "stream",
     "text": [
      "Collecting pandas_datareader\n",
      "  Downloading pandas_datareader-0.9.0-py3-none-any.whl (107 kB)\n",
      "Requirement already satisfied: lxml in c:\\users\\zesen\\anaconda3\\lib\\site-packages (from pandas_datareader) (4.5.2)\n",
      "Requirement already satisfied: requests>=2.19.0 in c:\\users\\zesen\\anaconda3\\lib\\site-packages (from pandas_datareader) (2.24.0)\n",
      "Requirement already satisfied: pandas>=0.23 in c:\\users\\zesen\\anaconda3\\lib\\site-packages (from pandas_datareader) (1.0.5)\n",
      "Requirement already satisfied: idna<3,>=2.5 in c:\\users\\zesen\\anaconda3\\lib\\site-packages (from requests>=2.19.0->pandas_datareader) (2.10)\n",
      "Requirement already satisfied: certifi>=2017.4.17 in c:\\users\\zesen\\anaconda3\\lib\\site-packages (from requests>=2.19.0->pandas_datareader) (2020.6.20)Note: you may need to restart the kernel to use updated packages.\n",
      "Requirement already satisfied: urllib3!=1.25.0,!=1.25.1,<1.26,>=1.21.1 in c:\\users\\zesen\\anaconda3\\lib\\site-packages (from requests>=2.19.0->pandas_datareader) (1.25.9)\n",
      "Requirement already satisfied: chardet<4,>=3.0.2 in c:\\users\\zesen\\anaconda3\\lib\\site-packages (from requests>=2.19.0->pandas_datareader) (3.0.4)\n",
      "\n",
      "Requirement already satisfied: python-dateutil>=2.6.1 in c:\\users\\zesen\\anaconda3\\lib\\site-packages (from pandas>=0.23->pandas_datareader) (2.8.1)\n",
      "Requirement already satisfied: pytz>=2017.2 in c:\\users\\zesen\\anaconda3\\lib\\site-packages (from pandas>=0.23->pandas_datareader) (2020.1)\n",
      "Requirement already satisfied: numpy>=1.13.3 in c:\\users\\zesen\\anaconda3\\lib\\site-packages (from pandas>=0.23->pandas_datareader) (1.18.5)\n",
      "Requirement already satisfied: six>=1.5 in c:\\users\\zesen\\anaconda3\\lib\\site-packages (from python-dateutil>=2.6.1->pandas>=0.23->pandas_datareader) (1.15.0)\n",
      "Installing collected packages: pandas-datareader\n",
      "Successfully installed pandas-datareader-0.9.0\n"
     ]
    }
   ],
   "source": [
    "pip install pandas_datareader"
   ]
  },
  {
   "cell_type": "code",
   "execution_count": 95,
   "metadata": {},
   "outputs": [],
   "source": [
    "# historical VaR\n",
    "import pandas as pd\n",
    "import numpy as np\n",
    "import pandas_datareader.data as web\n",
    "from sklearn.preprocessing import StandardScaler, MinMaxScaler"
   ]
  },
  {
   "cell_type": "markdown",
   "metadata": {},
   "source": [
    "## 1 (a)"
   ]
  },
  {
   "cell_type": "code",
   "execution_count": 105,
   "metadata": {},
   "outputs": [],
   "source": [
    "stock_list = ['AAPL', 'HD', 'JNJ', 'JPM', 'MSFT', 'UNH', 'V', 'XOM']\n",
    "stocks = []\n",
    "for stock in stock_list:\n",
    "    d = web.DataReader(name=stock, data_source='yahoo',\n",
    "                  start='2019-01-02', end='2020-12-31')\n",
    "    stocks.append(d)\n",
    "data = {stock_list[i]: stocks[i] for i in range(len(stock_list))}\n",
    "dji = web.DataReader(name='^dji', data_source='yahoo',\n",
    "                  start='2019-01-02', end='2020-12-31')"
   ]
  },
  {
   "cell_type": "markdown",
   "metadata": {},
   "source": [
    "##  (b)"
   ]
  },
  {
   "cell_type": "code",
   "execution_count": 209,
   "metadata": {},
   "outputs": [],
   "source": [
    "def preprocess():\n",
    "    x_train = []\n",
    "    x_test = []\n",
    "    \n",
    "    y = dji.fillna('ffill')\n",
    "    r = np.log(y['Adj Close']/y['Adj Close'].shift(1))\n",
    "    y['log_return'] = r\n",
    "    y['label'] = (r>0)*1 - (r<=0)*1\n",
    "    y = y.loc['2019-01-04':,:]['label']\n",
    "    \n",
    "    for a in stock_list:\n",
    "        data[a] = data[a].fillna('ffill')\n",
    "        r = np.log(data[a]['Adj Close']/data[a]['Adj Close'].shift(1))\n",
    "        data[a]['log_return'] = r\n",
    "        d = data[a].loc['2019-01-04':,:]['log_return']\n",
    "        d_train = d[:int(len(d)*0.8)]\n",
    "        d_test = d[int(len(d)*0.8):-1]\n",
    "        x_train.append(np.array(d_train))\n",
    "        x_test.append(np.array(d_test))\n",
    "        \n",
    "    #train test split\n",
    "    y_train = np.array(y[1:int(len(y)*0.8)+1])\n",
    "    y_test = np.array(y[int(len(y)*0.8)+1:])\n",
    "    \n",
    "    x_train = np.array(x_train).T\n",
    "    x_test = np.array(x_test).T\n",
    "    return x_train, x_test, y_train, y_test"
   ]
  },
  {
   "cell_type": "code",
   "execution_count": 210,
   "metadata": {},
   "outputs": [],
   "source": [
    "x_train, x_test, y_train, y_test = preprocess()"
   ]
  },
  {
   "cell_type": "code",
   "execution_count": 211,
   "metadata": {},
   "outputs": [],
   "source": [
    "scaler = StandardScaler()\n",
    "scaler.fit(x_train)\n",
    "X_train = scaler.transform(x_train) # returns scaled dataset\n",
    "X_test = scaler.transform(x_test)"
   ]
  },
  {
   "cell_type": "code",
   "execution_count": 212,
   "metadata": {},
   "outputs": [
    {
     "name": "stdout",
     "output_type": "stream",
     "text": [
      "(402, 8) (100, 8) (402,) (100,)\n"
     ]
    }
   ],
   "source": [
    "print(X_train.shape,X_test.shape, y_train.shape, y_test.shape)"
   ]
  },
  {
   "cell_type": "markdown",
   "metadata": {},
   "source": [
    "## (c)"
   ]
  },
  {
   "cell_type": "code",
   "execution_count": 242,
   "metadata": {},
   "outputs": [],
   "source": [
    "from sklearn import svm\n",
    "\n",
    "model = svm.SVC(C=1.0, kernel='rbf', gamma=1.0)\n",
    "model.fit(X_train, y_train)\n",
    "prediction = model.predict(X_train)"
   ]
  },
  {
   "cell_type": "code",
   "execution_count": 243,
   "metadata": {},
   "outputs": [
    {
     "data": {
      "text/plain": [
       "0.8681592039800995"
      ]
     },
     "execution_count": 243,
     "metadata": {},
     "output_type": "execute_result"
    }
   ],
   "source": [
    "model.score(X_train, y_train)"
   ]
  },
  {
   "cell_type": "markdown",
   "metadata": {},
   "source": [
    "## (d)"
   ]
  },
  {
   "cell_type": "code",
   "execution_count": 254,
   "metadata": {},
   "outputs": [
    {
     "data": {
      "text/plain": [
       "0.5791044776119403"
      ]
     },
     "execution_count": 254,
     "metadata": {},
     "output_type": "execute_result"
    }
   ],
   "source": [
    "from sklearn.model_selection import cross_val_score,TimeSeriesSplit\n",
    "tss = TimeSeriesSplit(n_splits=5)\n",
    "scores = cross_val_score(model, X_train, y_train, cv=tss)\n",
    "scores.mean()"
   ]
  },
  {
   "cell_type": "markdown",
   "metadata": {},
   "source": [
    "## (e)"
   ]
  },
  {
   "cell_type": "code",
   "execution_count": 256,
   "metadata": {},
   "outputs": [
    {
     "data": {
      "text/plain": [
       "({'C': 1.0, 'gamma': 1}, 0.5791044776119403)"
      ]
     },
     "execution_count": 256,
     "metadata": {},
     "output_type": "execute_result"
    }
   ],
   "source": [
    "# Grid search: seek the best model by changing hyperparameter values\n",
    "C = [0.1,1.0,10,100]\n",
    "gamma = [0.1,0.2,0.3,0.4,0.5,1, 5, 10]\n",
    "from sklearn.model_selection import GridSearchCV\n",
    "parameter_values = [{'C': C, 'gamma': gamma}]\n",
    "grid_search = GridSearchCV(model, parameter_values, cv=tss)\n",
    "grid_search.fit(X_train, y_train)\n",
    "grid_search.best_params_, grid_search.best_score_"
   ]
  },
  {
   "cell_type": "code",
   "execution_count": 246,
   "metadata": {},
   "outputs": [],
   "source": [
    "best_model = grid_search.best_estimator_\n",
    "y_pred = best_model.predict(X_test)"
   ]
  },
  {
   "cell_type": "code",
   "execution_count": 249,
   "metadata": {
    "scrolled": false
   },
   "outputs": [],
   "source": [
    "# grid_search.cv_results_"
   ]
  },
  {
   "cell_type": "markdown",
   "metadata": {},
   "source": [
    "## (f)"
   ]
  },
  {
   "cell_type": "code",
   "execution_count": 350,
   "metadata": {},
   "outputs": [
    {
     "name": "stderr",
     "output_type": "stream",
     "text": [
      "<ipython-input-350-d24290e15c9f>:2: SettingWithCopyWarning: \n",
      "A value is trying to be set on a copy of a slice from a DataFrame.\n",
      "Try using .loc[row_indexer,col_indexer] = value instead\n",
      "\n",
      "See the caveats in the documentation: https://pandas.pydata.org/pandas-docs/stable/user_guide/indexing.html#returning-a-view-versus-a-copy\n",
      "  dji_test['pred_label'] = y_pred\n",
      "<ipython-input-350-d24290e15c9f>:3: SettingWithCopyWarning: \n",
      "A value is trying to be set on a copy of a slice from a DataFrame.\n",
      "Try using .loc[row_indexer,col_indexer] = value instead\n",
      "\n",
      "See the caveats in the documentation: https://pandas.pydata.org/pandas-docs/stable/user_guide/indexing.html#returning-a-view-versus-a-copy\n",
      "  dji_test['trade_price'] = dji_test['Adj Close'].shift(1)\n"
     ]
    }
   ],
   "source": [
    "dji_test = dji[-100:]\n",
    "dji_test['pred_label'] = y_pred\n",
    "dji_test['trade_price'] = dji_test['Adj Close'].shift(1)\n",
    "dji_trade = dji_test.loc['2020-10-02':,:]"
   ]
  },
  {
   "cell_type": "code",
   "execution_count": 351,
   "metadata": {},
   "outputs": [
    {
     "data": {
      "text/html": [
       "<div>\n",
       "<style scoped>\n",
       "    .dataframe tbody tr th:only-of-type {\n",
       "        vertical-align: middle;\n",
       "    }\n",
       "\n",
       "    .dataframe tbody tr th {\n",
       "        vertical-align: top;\n",
       "    }\n",
       "\n",
       "    .dataframe thead th {\n",
       "        text-align: right;\n",
       "    }\n",
       "</style>\n",
       "<table border=\"1\" class=\"dataframe\">\n",
       "  <thead>\n",
       "    <tr style=\"text-align: right;\">\n",
       "      <th></th>\n",
       "      <th>High</th>\n",
       "      <th>Low</th>\n",
       "      <th>Open</th>\n",
       "      <th>Close</th>\n",
       "      <th>Volume</th>\n",
       "      <th>Adj Close</th>\n",
       "      <th>pred_label</th>\n",
       "      <th>trade_price</th>\n",
       "    </tr>\n",
       "    <tr>\n",
       "      <th>Date</th>\n",
       "      <th></th>\n",
       "      <th></th>\n",
       "      <th></th>\n",
       "      <th></th>\n",
       "      <th></th>\n",
       "      <th></th>\n",
       "      <th></th>\n",
       "      <th></th>\n",
       "    </tr>\n",
       "  </thead>\n",
       "  <tbody>\n",
       "    <tr>\n",
       "      <th>2020-10-02</th>\n",
       "      <td>27861.429688</td>\n",
       "      <td>27382.939453</td>\n",
       "      <td>27536.390625</td>\n",
       "      <td>27682.810547</td>\n",
       "      <td>392770000</td>\n",
       "      <td>27682.810547</td>\n",
       "      <td>1</td>\n",
       "      <td>27816.900391</td>\n",
       "    </tr>\n",
       "    <tr>\n",
       "      <th>2020-10-05</th>\n",
       "      <td>28162.640625</td>\n",
       "      <td>27825.419922</td>\n",
       "      <td>27825.419922</td>\n",
       "      <td>28148.640625</td>\n",
       "      <td>318210000</td>\n",
       "      <td>28148.640625</td>\n",
       "      <td>1</td>\n",
       "      <td>27682.810547</td>\n",
       "    </tr>\n",
       "    <tr>\n",
       "      <th>2020-10-06</th>\n",
       "      <td>28354.480469</td>\n",
       "      <td>27728.029297</td>\n",
       "      <td>28214.240234</td>\n",
       "      <td>27772.759766</td>\n",
       "      <td>435030000</td>\n",
       "      <td>27772.759766</td>\n",
       "      <td>-1</td>\n",
       "      <td>28148.640625</td>\n",
       "    </tr>\n",
       "    <tr>\n",
       "      <th>2020-10-07</th>\n",
       "      <td>28369.660156</td>\n",
       "      <td>27971.359375</td>\n",
       "      <td>27971.359375</td>\n",
       "      <td>28303.460938</td>\n",
       "      <td>328750000</td>\n",
       "      <td>28303.460938</td>\n",
       "      <td>1</td>\n",
       "      <td>27772.759766</td>\n",
       "    </tr>\n",
       "    <tr>\n",
       "      <th>2020-10-08</th>\n",
       "      <td>28459.130859</td>\n",
       "      <td>28265.560547</td>\n",
       "      <td>28348.859375</td>\n",
       "      <td>28425.509766</td>\n",
       "      <td>314750000</td>\n",
       "      <td>28425.509766</td>\n",
       "      <td>-1</td>\n",
       "      <td>28303.460938</td>\n",
       "    </tr>\n",
       "    <tr>\n",
       "      <th>...</th>\n",
       "      <td>...</td>\n",
       "      <td>...</td>\n",
       "      <td>...</td>\n",
       "      <td>...</td>\n",
       "      <td>...</td>\n",
       "      <td>...</td>\n",
       "      <td>...</td>\n",
       "      <td>...</td>\n",
       "    </tr>\n",
       "    <tr>\n",
       "      <th>2020-12-24</th>\n",
       "      <td>30209.669922</td>\n",
       "      <td>30099.300781</td>\n",
       "      <td>30155.919922</td>\n",
       "      <td>30199.869141</td>\n",
       "      <td>145570000</td>\n",
       "      <td>30199.869141</td>\n",
       "      <td>1</td>\n",
       "      <td>30129.830078</td>\n",
       "    </tr>\n",
       "    <tr>\n",
       "      <th>2020-12-28</th>\n",
       "      <td>30525.560547</td>\n",
       "      <td>30283.230469</td>\n",
       "      <td>30283.230469</td>\n",
       "      <td>30403.970703</td>\n",
       "      <td>302490000</td>\n",
       "      <td>30403.970703</td>\n",
       "      <td>1</td>\n",
       "      <td>30199.869141</td>\n",
       "    </tr>\n",
       "    <tr>\n",
       "      <th>2020-12-29</th>\n",
       "      <td>30588.789062</td>\n",
       "      <td>30274.240234</td>\n",
       "      <td>30492.070312</td>\n",
       "      <td>30335.669922</td>\n",
       "      <td>357610000</td>\n",
       "      <td>30335.669922</td>\n",
       "      <td>-1</td>\n",
       "      <td>30403.970703</td>\n",
       "    </tr>\n",
       "    <tr>\n",
       "      <th>2020-12-30</th>\n",
       "      <td>30525.349609</td>\n",
       "      <td>30393.039062</td>\n",
       "      <td>30415.089844</td>\n",
       "      <td>30409.560547</td>\n",
       "      <td>291890000</td>\n",
       "      <td>30409.560547</td>\n",
       "      <td>1</td>\n",
       "      <td>30335.669922</td>\n",
       "    </tr>\n",
       "    <tr>\n",
       "      <th>2020-12-31</th>\n",
       "      <td>30637.470703</td>\n",
       "      <td>30344.500000</td>\n",
       "      <td>30417.640625</td>\n",
       "      <td>30606.480469</td>\n",
       "      <td>284470000</td>\n",
       "      <td>30606.480469</td>\n",
       "      <td>-1</td>\n",
       "      <td>30409.560547</td>\n",
       "    </tr>\n",
       "  </tbody>\n",
       "</table>\n",
       "<p>63 rows × 8 columns</p>\n",
       "</div>"
      ],
      "text/plain": [
       "                    High           Low          Open         Close     Volume  \\\n",
       "Date                                                                            \n",
       "2020-10-02  27861.429688  27382.939453  27536.390625  27682.810547  392770000   \n",
       "2020-10-05  28162.640625  27825.419922  27825.419922  28148.640625  318210000   \n",
       "2020-10-06  28354.480469  27728.029297  28214.240234  27772.759766  435030000   \n",
       "2020-10-07  28369.660156  27971.359375  27971.359375  28303.460938  328750000   \n",
       "2020-10-08  28459.130859  28265.560547  28348.859375  28425.509766  314750000   \n",
       "...                  ...           ...           ...           ...        ...   \n",
       "2020-12-24  30209.669922  30099.300781  30155.919922  30199.869141  145570000   \n",
       "2020-12-28  30525.560547  30283.230469  30283.230469  30403.970703  302490000   \n",
       "2020-12-29  30588.789062  30274.240234  30492.070312  30335.669922  357610000   \n",
       "2020-12-30  30525.349609  30393.039062  30415.089844  30409.560547  291890000   \n",
       "2020-12-31  30637.470703  30344.500000  30417.640625  30606.480469  284470000   \n",
       "\n",
       "               Adj Close  pred_label   trade_price  \n",
       "Date                                                \n",
       "2020-10-02  27682.810547           1  27816.900391  \n",
       "2020-10-05  28148.640625           1  27682.810547  \n",
       "2020-10-06  27772.759766          -1  28148.640625  \n",
       "2020-10-07  28303.460938           1  27772.759766  \n",
       "2020-10-08  28425.509766          -1  28303.460938  \n",
       "...                  ...         ...           ...  \n",
       "2020-12-24  30199.869141           1  30129.830078  \n",
       "2020-12-28  30403.970703           1  30199.869141  \n",
       "2020-12-29  30335.669922          -1  30403.970703  \n",
       "2020-12-30  30409.560547           1  30335.669922  \n",
       "2020-12-31  30606.480469          -1  30409.560547  \n",
       "\n",
       "[63 rows x 8 columns]"
      ]
     },
     "execution_count": 351,
     "metadata": {},
     "output_type": "execute_result"
    }
   ],
   "source": [
    "dji_trade"
   ]
  },
  {
   "cell_type": "code",
   "execution_count": 364,
   "metadata": {
    "scrolled": true
   },
   "outputs": [
    {
     "name": "stdout",
     "output_type": "stream",
     "text": [
      "buy\n",
      "day 0\n",
      "10000\n",
      "-----\n",
      "sell\n",
      "day 2\n",
      "10119.258518999768\n",
      "-----\n",
      "buy\n",
      "day 3\n",
      "10119.258518999768\n",
      "-----\n",
      "sell\n",
      "day 4\n",
      "10312.624334995708\n",
      "-----\n",
      "buy\n",
      "day 5\n",
      "10312.624334995708\n",
      "-----\n",
      "sell\n",
      "day 11\n",
      "10378.217900489466\n",
      "-----\n",
      "buy\n",
      "day 12\n",
      "10378.217900489466\n",
      "-----\n",
      "sell\n",
      "day 13\n",
      "10419.947005707887\n",
      "-----\n",
      "buy\n",
      "day 14\n",
      "10419.947005707887\n",
      "-----\n",
      "sell\n",
      "day 18\n",
      "10143.802113491918\n",
      "-----\n",
      "buy\n",
      "day 19\n",
      "10143.802113491918\n",
      "-----\n",
      "sell\n",
      "day 29\n",
      "11244.506827039806\n",
      "-----\n",
      "buy\n",
      "day 30\n",
      "11244.506827039806\n",
      "-----\n",
      "sell\n",
      "day 35\n",
      "11400.359323198607\n",
      "-----\n",
      "buy\n",
      "day 36\n",
      "11400.359323198607\n",
      "-----\n",
      "sell\n",
      "day 39\n",
      "11637.6075036947\n",
      "-----\n",
      "buy\n",
      "day 40\n",
      "11637.6075036947\n",
      "-----\n",
      "sell\n",
      "day 42\n",
      "11603.97160732433\n",
      "-----\n",
      "buy\n",
      "day 43\n",
      "11603.97160732433\n",
      "-----\n",
      "sell\n",
      "day 50\n",
      "11667.101975649894\n",
      "-----\n",
      "buy\n",
      "day 51\n",
      "11667.101975649894\n",
      "-----\n",
      "sell\n",
      "day 52\n",
      "11799.066911352187\n",
      "-----\n",
      "buy\n",
      "day 53\n",
      "11799.066911352187\n",
      "-----\n",
      "sell\n",
      "day 57\n",
      "11744.666611182905\n",
      "-----\n",
      "buy\n",
      "day 58\n",
      "11744.666611182905\n",
      "-----\n",
      "sell\n",
      "day 60\n",
      "11851.527162233404\n",
      "-----\n",
      "buy\n",
      "day 61\n",
      "11851.527162233404\n",
      "-----\n",
      "sell\n",
      "day 62\n",
      "11880.394721495393\n",
      "-----\n",
      "final_capital 11880.394721495393\n"
     ]
    }
   ],
   "source": [
    "status = 0 ## hold nothing\n",
    "buy_price = 0\n",
    "sell_price = 0\n",
    "capital = 10000\n",
    "for i in range(0,len(dji_trade)):\n",
    "    action = 0\n",
    "    rr = 0\n",
    "    if status == 0:\n",
    "        if dji_trade.iloc[i,6] == 1:\n",
    "            print('buy')\n",
    "            status = 1\n",
    "            buy_price = dji_trade.iloc[i,7]\n",
    "            action = 1\n",
    "            rr = 0\n",
    "        else:\n",
    "            pass\n",
    "\n",
    "    \n",
    "    elif status == 1:\n",
    "        if dji_trade.iloc[i,6] == 1:\n",
    "            pass\n",
    "        else:\n",
    "            status = 0\n",
    "            sell_price = dji_trade.iloc[i,7]\n",
    "            rate = sell_price/buy_price\n",
    "            capital = capital*rate\n",
    "            action = 1\n",
    "            print('sell')\n",
    "    if action == 1:\n",
    "        print('day',i)\n",
    "        print(capital)\n",
    "        print('-----')\n",
    "if status != 0:\n",
    "    capital = dji_trade.iloc[-1,5]/dji_trade.iloc[-1,7]*capital\n",
    "    \n",
    "print('final_capital',capital)"
   ]
  },
  {
   "cell_type": "code",
   "execution_count": 365,
   "metadata": {},
   "outputs": [
    {
     "data": {
      "text/plain": [
       "11880.394721495393"
      ]
     },
     "execution_count": 365,
     "metadata": {},
     "output_type": "execute_result"
    }
   ],
   "source": [
    "capital"
   ]
  },
  {
   "cell_type": "markdown",
   "metadata": {},
   "source": [
    "## (g) buy and hold, buy at 09/30/2020 adj close, sell at 12/31/2020 adj close"
   ]
  },
  {
   "cell_type": "code",
   "execution_count": 359,
   "metadata": {},
   "outputs": [
    {
     "data": {
      "text/plain": [
       "11016.77770958428"
      ]
     },
     "execution_count": 359,
     "metadata": {},
     "output_type": "execute_result"
    }
   ],
   "source": [
    "buy_n_hold = dji_test.loc['2020-12-31','Adj Close'] / dji_test.loc['2020-09-30','Adj Close'] *10000\n",
    "buy_n_hold"
   ]
  },
  {
   "cell_type": "markdown",
   "metadata": {},
   "source": [
    "#### Both strategies made money. Trading strategy using SVM turned 10000 capital into 11880.40, while Buy_and_Hold strategy turned 10000 into 11016.78. From the result, the trading strategy is better and almost doubled the return of the buy and hold strategy. However, this is based on a small sample size, more market data is yet to be tested out."
   ]
  }
 ],
 "metadata": {
  "kernelspec": {
   "display_name": "Python 3",
   "language": "python",
   "name": "python3"
  },
  "language_info": {
   "codemirror_mode": {
    "name": "ipython",
    "version": 3
   },
   "file_extension": ".py",
   "mimetype": "text/x-python",
   "name": "python",
   "nbconvert_exporter": "python",
   "pygments_lexer": "ipython3",
   "version": "3.8.3"
  }
 },
 "nbformat": 4,
 "nbformat_minor": 4
}
