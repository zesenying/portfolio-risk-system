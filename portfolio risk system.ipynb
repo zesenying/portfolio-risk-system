{
 "cells": [
  {
   "cell_type": "code",
   "execution_count": 100,
   "metadata": {},
   "outputs": [],
   "source": [
    "import pandas as pd\n",
    "import numpy as np\n",
    "import matplotlib.pyplot as plt\n",
    "import math\n",
    "from scipy.stats import norm, expon\n",
    "import pandas_datareader.data as web\n",
    "import math\n",
    "from tkinter import *\n",
    "from tkinter import ttk"
   ]
  },
  {
   "cell_type": "code",
   "execution_count": 140,
   "metadata": {},
   "outputs": [],
   "source": [
    "def ui():\n",
    "    window = Tk()\n",
    "    window.geometry(\"600x500\")\n",
    "    l1 = Label(window, text = \"1. Stock Ticker (separate by comma).\")\n",
    "    l1.grid(row = 0, column = 0)\n",
    "    l2 = Label(window, text = \"2. shares ratio (separate by comma).\")\n",
    "    l2.grid(row = 2, column = 0)\n",
    "    l3 = Label(window, text = \"3. Initial Capital v0\")    \n",
    "    l3.grid(row = 4, column = 0)\n",
    "    l4 = Label(window, text = \"4. Risk Day\")    \n",
    "    l4.grid(row = 6, column = 0)\n",
    "    l5 = Label(window, text = \"5. years window\")    \n",
    "    l5.grid(row = 8, column = 0)\n",
    "    l6 = Label(window, text = \"6. P level\")    \n",
    "    l6.grid(row = 10, column = 0)\n",
    "    l7 = Label(window, text = \"Choose risk measure\")    \n",
    "    l7.grid(row = 0, column = 1)\n",
    "    l8 = Label(window, text = \"Choose type\")    \n",
    "    l8.grid(row = 2, column = 1)\n",
    "    l9 = Label(window, text = \"If Parametric, choose:\")    \n",
    "    l9.grid(row = 5, column = 1)\n",
    "    l10 = Label(window, text = \"If Monte Carlo, enter number of simulations N:\")    \n",
    "    l10.grid(row = 7, column = 1)\n",
    "    l11 = Label(window, text = \"If Historical, choose:\")    \n",
    "    l11.grid(row = 9, column = 1)\n",
    "    \n",
    "    \n",
    "    \n",
    "    stocks = StringVar()\n",
    "    e1 = Entry(window, textvariable = stocks)\n",
    "    e1.grid(row = 1,column = 0)\n",
    "    stocks.set('msft,ba,jnj,ge,dis')\n",
    "    \n",
    "    shares = StringVar()\n",
    "    e2 = Entry(window, textvariable = shares)\n",
    "    e2.grid(row = 3,column = 0)\n",
    "    shares.set('5,8,0,0,8')\n",
    "    \n",
    "    v0 = StringVar()\n",
    "    e3 = Entry(window, textvariable = v0)\n",
    "    e3.grid(row = 5,column = 0)\n",
    "    v0.set('10000')\n",
    "    \n",
    "    risk_day = StringVar()\n",
    "    e4 = Entry(window, textvariable = risk_day )\n",
    "    e4.grid(row = 7,column = 0)\n",
    "    risk_day.set('5')\n",
    "    \n",
    "    windows = StringVar()\n",
    "    e5 = Entry(window, textvariable = windows )\n",
    "    e5.grid(row = 9,column = 0)\n",
    "    windows.set('5')\n",
    "    \n",
    "    p = StringVar()\n",
    "    e6 = Entry(window, textvariable = p )\n",
    "    e6.grid(row = 11,column = 0)\n",
    "    p.set('0.99')\n",
    "    \n",
    "    m = StringVar()\n",
    "    e7 = Entry(window, textvariable = m )\n",
    "    e7.grid(row = 8,column = 1)\n",
    "    m.set('1000')\n",
    "    \n",
    "    btn = Button(window, text = \"save and close\", command = window.destroy)\n",
    "    btn.grid(row = 13, column = 1)\n",
    "    \n",
    "    risk_measure = StringVar()\n",
    "    combo1 = ttk.Combobox(window, values = ['VaR', \"ES\"], textvariable = risk_measure)\n",
    "    combo1.grid(row = 1,column = 1)\n",
    "    combo1.current(0)\n",
    "    \n",
    "    risk_type = StringVar()\n",
    "    combo2 = ttk.Combobox(window, values = ['Parametric', \"Monte Carlo\",\"Historical\",\"All\"], textvariable = risk_type)\n",
    "    combo2.grid(row = 3,column = 1)\n",
    "    combo2.current(3)\n",
    "    \n",
    "    parametric_c = StringVar()\n",
    "    combo3 = ttk.Combobox(window, values = ['Portfolio GBM', \"Underlying GBM\"], textvariable = parametric_c)\n",
    "    combo3.grid(row = 6,column = 1)\n",
    "    \n",
    "    hist_c = StringVar()\n",
    "    combo4 = ttk.Combobox(window, values = ['Relative', \"Absolute\"], textvariable = hist_c)\n",
    "    combo4.grid(row = 10,column = 1)\n",
    "    \n",
    "    window.mainloop()\n",
    "    \n",
    "    stock_tickers = stocks.get()\n",
    "    shares_ratio = shares.get()\n",
    "    capital = v0.get()\n",
    "    risk_days = risk_day.get()\n",
    "    windowss = windows.get()\n",
    "    p_level = p.get()\n",
    "    risk_measure = risk_measure.get()\n",
    "    risk_type = risk_type.get()\n",
    "    parametric_c = parametric_c.get()\n",
    "    hist_c = hist_c.get()\n",
    "    m = m.get()\n",
    "    \n",
    "    \n",
    "    \n",
    "    return stock_tickers, shares_ratio,capital, risk_days, windowss, p_level,risk_measure,risk_type,parametric_c,m,hist_c\n",
    "    "
   ]
  },
  {
   "cell_type": "code",
   "execution_count": 104,
   "metadata": {},
   "outputs": [],
   "source": [
    "def data_preprocess(price,window):\n",
    "    \n",
    "    log_return = np.log(price/price.shift(1))\n",
    "    log_return_sq = log_return**2\n",
    "    ma = log_return.rolling(window*252).mean() ## daily log return moving average\n",
    "    variance = log_return_sq.rolling(window*252).mean() - ma**2 #daily log return variance\n",
    "    sd = variance**0.5  #daily log return variance\n",
    "    sigma = sd/((1/252)**0.5)  \n",
    "    mu = ma/(1/252) + (sigma**2)/2 \n",
    "    \n",
    "    return sigma,mu,log_return"
   ]
  },
  {
   "cell_type": "code",
   "execution_count": 103,
   "metadata": {},
   "outputs": [],
   "source": [
    "# def data_preprocess(price,window_or_exp):\n",
    "\n",
    "#     log_return = np.log(price/price.shift(1))\n",
    "#     log_return_sq = log_return**2\n",
    "# #     if window_or_exp < 1:\n",
    "# #         ma = log_return.ewm(alpha = window_or_exp).mean() ## daily log return moving average\n",
    "# #         variance = log_return_sq.ewm(alpha = window_or_exp).mean() - ma**2 #daily log return variance\n",
    "# #         print('exponential')\n",
    "# #     else:\n",
    "# #         print(\"equal\")\n",
    "#     ma = log_return.rolling(window_or_exp*252).mean() ## daily log return moving average\n",
    "#     variance = log_return_sq.rolling(window_or_exp*252).mean() - ma**2 #daily log return variance\n",
    "    \n",
    "#     sd = variance**0.5  #daily log return variance\n",
    "#     sigma = sd/((1/252)**0.5)  \n",
    "#     mu = ma/(1/252) + (sigma**2)/2 \n",
    "    \n",
    "#     return sigma,mu,log_return"
   ]
  },
  {
   "cell_type": "code",
   "execution_count": 105,
   "metadata": {},
   "outputs": [],
   "source": [
    "def calculation_preparation(stocks_df,share_ratio,risk_day,shares_multi):\n",
    "    sigma_list = []\n",
    "    mu_list = []\n",
    "    log_return_list = []\n",
    "    stock_v_list = []\n",
    "    share_list = []\n",
    "    Ev_i = []\n",
    "    Ev_i_2 = []\n",
    "    \n",
    "    for stock, ratio in zip(stocks_df, share_ratio):\n",
    "    \n",
    "        price = stock['Adj Close']\n",
    "        sigma, mu, log_return = data_preprocess(price,5)\n",
    "        sigma_list.append(sigma)\n",
    "        mu_list.append(mu)\n",
    "        log_return_list.append(log_return)\n",
    "    \n",
    "        share = ratio*shares_multi\n",
    "        share_list.append(share)\n",
    "    \n",
    "        stock_v = share*price\n",
    "        stock_v_list.append(stock_v)\n",
    "        \n",
    "        Ev_i.append(stock_v*np.exp(mu*risk_day/252))\n",
    "        Ev_i_2.append(stock_v**2*np.exp((2*mu+sigma**2)*risk_day/252))\n",
    "   \n",
    "    return sigma_list, mu_list, log_return_list, stock_v_list, Ev_i, Ev_i_2"
   ]
  },
  {
   "cell_type": "code",
   "execution_count": 106,
   "metadata": {},
   "outputs": [],
   "source": [
    "def corr_f(log_return_list,window):\n",
    "    \n",
    "    returns = pd.DataFrame(log_return_list).T\n",
    "    corr_matrix = returns.rolling(window*252).corr()\n",
    "    corr_m = np.array([np.matrix(corr_matrix.loc[n,:]) for n in range(0,len(log_return_list[0]))])\n",
    "    return corr_m"
   ]
  },
  {
   "cell_type": "code",
   "execution_count": 107,
   "metadata": {},
   "outputs": [],
   "source": [
    "def log_return_n(data,n):\n",
    "#     v0_stock = 10000\n",
    "#     v0_stock = v0*(1-liquidate)\n",
    "#     v0_option = v0*liquidate\n",
    "#     v0_stock = 10000\n",
    "#     shares_stock = v0_stock/data\n",
    "    ln_return_n = np.log(data/data.shift(n))\n",
    "#     for i in range(0,len(data)):\n",
    "#         if i+risk_day <= len(data)-1:\n",
    "#             vt = shares_stock[i+risk_day]*data['PX_LAST'][i]    # + data['option'][i]\n",
    "#             log_return.append(np.log(vt/v0))\n",
    "#         else:\n",
    "#             log_return.append(0)\n",
    "    return ln_return_n\n"
   ]
  },
  {
   "cell_type": "code",
   "execution_count": 108,
   "metadata": {},
   "outputs": [],
   "source": [
    "def absolute_return_n(data,n):\n",
    "\n",
    "#     v0_stock = 10000\n",
    "#     v0_stock = v0*(1-liquidate)\n",
    "#     v0_option = v0*liquidate\n",
    "#     v0_stock = 10000\n",
    "#     shares_stock = v0_stock/data\n",
    "    absolute_return_n = data - data.shift(5)\n",
    "#     for i in range(0,len(data)):\n",
    "#         if i+risk_day <= len(data)-1:\n",
    "#             vt = shares_stock[i+risk_day]*data['PX_LAST'][i]    # + data['option'][i]\n",
    "#             log_return.append(np.log(vt/v0))\n",
    "#         else:\n",
    "#             log_return.append(0)\n",
    "    return absolute_return_n\n"
   ]
  },
  {
   "cell_type": "code",
   "execution_count": 208,
   "metadata": {},
   "outputs": [],
   "source": [
    "class RISK_SYSTEM():\n",
    "    def __init__(self):\n",
    "        start_date = '1987-01-16'\n",
    "        end_date = '2020-09-30'\n",
    "        stocks, ratio,v0, risk_day, window, P,risk_measure,self.risk_type,self.parametric_c,m,self.hist_c = ui()\n",
    "        stocks = stocks.split(',')\n",
    "        self.risk_day = int(risk_day)\n",
    "        self.ratio = [int(i) for i in ratio.split(',')]\n",
    "        self.window = int(window)\n",
    "        self.VaR_or_ES = risk_measure\n",
    "        self.VaR_P = float(P)\n",
    "        self.ES_P = float(P)\n",
    "        self.m = int(m)\n",
    "\n",
    "        stocks_df = []\n",
    "        for stock in stocks:\n",
    "            data = web.DataReader(name=stock, data_source='yahoo',start=start_date, end= end_date)\n",
    "            data = data.reset_index()\n",
    "            stocks_df.append(data)\n",
    "        self.v0 = float(v0)\n",
    "        self.stocks = stocks_df\n",
    "        self.date = np.array(self.stocks[0]['Date'])\n",
    "\n",
    "    def parametric(self):\n",
    "        if self.parametric_c == \"Portfolio GBM\":\n",
    "            ##portfolio set up\n",
    "            self.price = sum([stock[\"Adj Close\"]*w for stock, w in zip(self.stocks, self.ratio)])\n",
    "\n",
    "            sigma, mu,log_return = data_preprocess(self.price,self.window)\n",
    "\n",
    "            #VaR\n",
    "            shares = self.v0/self.price\n",
    "            value_0 = shares*self.price\n",
    "            value_t_long = shares*self.price * np.exp(sigma* ((self.risk_day/252)**0.5) * norm.ppf(1-self.VaR_P) + (mu - sigma**2/2)*(self.risk_day/252))\n",
    "            value_t_short = shares*self.price * np.exp(sigma* ((self.risk_day/252)**0.5) * norm.ppf(self.VaR_P) + (mu - sigma**2/2)*(self.risk_day/252))\n",
    "\n",
    "            long_VaR = value_0 - value_t_long\n",
    "            short_VaR = value_0 - (value_0 + value_0 - value_t_short)\n",
    "\n",
    "            #ES\n",
    "            es_1 = norm.cdf(norm.ppf(1-self.ES_P) - (self.risk_day/252)**0.5*sigma)\n",
    "            es_2 = self.v0 * np.exp(mu *(self.risk_day/252))/(1-self.ES_P)\n",
    "            ES_long = self.v0 - es_2*es_1\n",
    "\n",
    "            es1 = np.exp(mu*self.risk_day/252)/(1-self.ES_P)\n",
    "            es2 = norm.cdf( - norm.ppf(self.ES_P) + sigma*(self.risk_day/252)**0.5)\n",
    "            ES_short = -self.v0 + es1*es2*self.v0\n",
    "\n",
    "            if self.VaR_or_ES == 'VaR':\n",
    "                plt.figure(figsize = (15,5))\n",
    "                plt.plot(self.date,long_VaR,label = 'long VaR')\n",
    "                plt.plot(self.date,short_VaR, label = 'short VaR')\n",
    "                plt.legend()\n",
    "            else:\n",
    "                plt.figure(figsize = (15,5))\n",
    "                plt.plot(self.date,ES_long,label = 'long ES')\n",
    "                plt.plot(self.date,ES_short, label = 'short ES')\n",
    "                plt.legend()\n",
    "    \n",
    "        else:\n",
    "          ## portfolio set up\n",
    "            stocks_df = self.stocks\n",
    "            share_ratio = self.ratio\n",
    "\n",
    "            shares_multi = self.v0/sum([stock[\"Adj Close\"]*w for stock, w in zip(self.stocks, self.ratio)])\n",
    "\n",
    "            sigma_list, mu_list, log_return_list, stock_v_list, Ev_i, Ev_i_2 = calculation_preparation(stocks_df,share_ratio,self.risk_day,shares_multi)\n",
    "\n",
    "            corr_m = corr_f(log_return_list,self.window)\n",
    "\n",
    "            Eij_list = []\n",
    "            for i in range(0,len(self.stocks)):\n",
    "                for j in range(i+1,len(self.stocks)):\n",
    "                    corr = [corr_m[n][i][j] for n in range(0,len(corr_m))]\n",
    "                    Eij =  2*stock_v_list[i]*stock_v_list[j]*np.exp((mu_list[i]+mu_list[j]+sigma_list[i]*sigma_list[j]*corr)*self.risk_day/252)\n",
    "                    Eij_list.append(Eij)  \n",
    "\n",
    "            EV = sum(Ev_i)\n",
    "            EV_2 = sum(Eij_list) + sum(Ev_i_2)\n",
    "            var = EV_2 - EV**2\n",
    "            VaR = self.v0- (EV - norm.ppf(self.VaR_P)*var**0.5)\n",
    "            ES = self.v0 - (EV - var**0.5*norm.pdf(norm.ppf(self.ES_P))/(1-self.ES_P))\n",
    "            VaR_short = -self.v0  +  (EV+ norm.ppf(self.VaR_P)*var**0.5)\n",
    "            ES_short = -self.v0 + (EV + var**0.5*norm.pdf(norm.ppf(self.ES_P))/(1-self.ES_P))\n",
    "            if self.VaR_or_ES == 'VaR':\n",
    "                plt.figure(figsize = (15,5))\n",
    "                plt.plot(self.date,VaR,label = 'long VaR')\n",
    "                plt.plot(self.date,VaR_short,label = 'short VaR')\n",
    "                plt.legend()\n",
    "            else:\n",
    "                plt.figure(figsize = (15,5))\n",
    "                plt.plot(self.date,ES,label = 'long ES')\n",
    "                plt.plot(self.date,ES_short,label = 'short ES')\n",
    "                plt.legend()\n",
    "        \n",
    "    def Monte_Carlo(self):\n",
    "        stocks_df = self.stocks\n",
    "        share_ratio = self.ratio\n",
    "        shares_multi = self.v0/sum([stock[\"Adj Close\"]*w for stock, w in zip(stocks_df, share_ratio)])\n",
    "\n",
    "        sigma_list, mu_list, log_return_list, stock_v_list, Ev_i, Ev_i_2 = calculation_preparation(stocks_df,share_ratio,self.risk_day,shares_multi)\n",
    "                \n",
    "        corr_m = corr_f(log_return_list,self.window)\n",
    "        corr_m = np.nan_to_num(corr_m*5/252)\n",
    "\n",
    "        wt = np.array([np.random.multivariate_normal([0]*len(stocks_df), corr_m_i, self.m).T  for corr_m_i in corr_m])\n",
    "        \n",
    "        stocks_simu = []\n",
    "        for i,j,k,x in zip(np.array(stock_v_list), np.array(mu_list), np.array(sigma_list),range(0,len(mu_list[0]))):\n",
    "            \n",
    "            w_t = np.array([n[x] for n in wt])\n",
    "            a = (w_t.T * k)\n",
    "            b = (j - k**2/2)*(self.risk_day/252)\n",
    "            c = np.exp(a+b)\n",
    "            stocks_simu.append((i*c).T)\n",
    "        loss = self.v0 - sum(stocks_simu)\n",
    "        \n",
    "        if self.VaR_or_ES == 'VaR':\n",
    "            \n",
    "            VaR = [sorted(l)[int(self.m*self.VaR_P)-1] for l in loss]\n",
    "            VaR_short = [(-1)*np.array(sorted(l)[::-1][int(self.m*self.VaR_P)-1]) for l in loss]\n",
    "            plt.figure(figsize = (15,5))\n",
    "            plt.plot(self.date,VaR,label = 'long VaR')\n",
    "            plt.plot(self.date,VaR_short,label = 'short VaR')\n",
    "            plt.legend()\n",
    "        else:\n",
    "            ES = [np.mean(sorted(l)[int(self.m*self.ES_P):]) for l in loss]\n",
    "            ES_short = [-np.mean(sorted(l)[::-1][int(self.m*self.ES_P):]) for l in loss]  \n",
    "            plt.figure(figsize = (15,5))\n",
    "            plt.plot(self.date,ES,label = 'long ES')\n",
    "            plt.plot(self.date,ES_short,label = 'short ES')\n",
    "            plt.legend()\n",
    "        \n",
    "        \n",
    "    def historical(self):\n",
    "        relative_absolute = self.hist_c\n",
    "        n = self.risk_day\n",
    "        v0 = self.v0\n",
    "        self.price = sum([stock[\"Adj Close\"]*w for stock, w in zip(self.stocks, self.ratio)])\n",
    "        shares = v0/self.price\n",
    "        if relative_absolute == 'Relative':\n",
    "            ret = log_return_n(self.price,n)\n",
    "            VaR = v0-np.exp(ret.rolling(self.window*252).apply(lambda x: np.sort(x)[int(self.window*252*(1-self.VaR_P)-1)]))*v0\n",
    "            ES = v0- np.exp(ret.rolling(self.window*252).apply(lambda x: np.mean(np.sort(x)[int(self.window*252*(1-self.ES_P)-1)])))*v0\n",
    "            VaR_short = -v0 + np.exp(ret.rolling(self.window*252).apply(lambda x: np.sort(x)[::-1][int(self.window*252*(1-self.VaR_P)-1)]))*v0\n",
    "            ES_short = -v0 + np.exp(ret.rolling(self.window*252).apply(lambda x: np.mean(np.sort(x)[::-1][int(self.window*252*(1-self.ES_P)-1)])))*v0\n",
    "        else:\n",
    "            print('absolute')\n",
    "            ret = absolute_return_n(self.price,n)\n",
    "            VaR = -ret.rolling(self.window*252).apply(lambda x: np.sort(x)[int(self.window*252*(1-self.VaR_P)-1)])*shares\n",
    "            ES = -ret.rolling(self.window*252).apply(lambda x: np.mean(np.sort(x)[int(self.window*252*(1-self.ES_P)-1)]))*shares\n",
    "            VaR_short = ret.rolling(self.window*252).apply(lambda x: np.sort(x)[::-1][int(self.window*252*(1-self.VaR_P)-1)])*shares\n",
    "            ES_short = ret.rolling(self.window*252).apply(lambda x: np.mean(np.sort(x)[::-1][int(self.window*252*(1-self.ES_P)-1)]))*shares\n",
    "\n",
    "        if self.VaR_or_ES == 'VaR':\n",
    "            plt.figure(figsize = (15,5))\n",
    "            plt.plot(self.date,VaR,label = 'long VaR')\n",
    "            plt.plot(self.date,VaR_short,label = 'short VaR')\n",
    "            plt.legend()\n",
    "        else:\n",
    "            plt.figure(figsize = (15,5))\n",
    "            plt.plot(self.date,ES,label = 'long ES')\n",
    "            plt.plot(self.date,ES_short,label = 'short ES')\n",
    "            plt.legend()\n",
    "        \n",
    "        return \n",
    "        \n",
    "        \n",
    "        \n",
    "        "
   ]
  },
  {
   "cell_type": "code",
   "execution_count": 209,
   "metadata": {},
   "outputs": [],
   "source": [
    "aa = RISK_SYSTEM()"
   ]
  },
  {
   "cell_type": "code",
   "execution_count": 211,
   "metadata": {},
   "outputs": [
    {
     "data": {
      "image/png": "[encoded data removed]",
      "text/plain": [
       "<Figure size 1080x360 with 1 Axes>"
      ]
     },
     "metadata": {
      "needs_background": "light"
     },
     "output_type": "display_data"
    }
   ],
   "source": [
    "aa.parametric()"
   ]
  },
  {
   "cell_type": "code",
   "execution_count": 213,
   "metadata": {},
   "outputs": [
    {
     "data": {
      "image/png": "[encoded data removed]",
      "text/plain": [
       "<Figure size 1080x360 with 1 Axes>"
      ]
     },
     "metadata": {
      "needs_background": "light"
     },
     "output_type": "display_data"
    }
   ],
   "source": [
    "aa.Monte_Carlo()"
   ]
  },
  {
   "cell_type": "code",
   "execution_count": 214,
   "metadata": {
    "scrolled": true
   },
   "outputs": [
    {
     "data": {
      "image/png": "[encoded data removed]",
      "text/plain": [
       "<Figure size 1080x360 with 1 Axes>"
      ]
     },
     "metadata": {
      "needs_background": "light"
     },
     "output_type": "display_data"
    }
   ],
   "source": [
    "aa.historical()"
   ]
  },
  {
   "cell_type": "code",
   "execution_count": null,
   "metadata": {},
   "outputs": [],
   "source": []
  },
  {
   "cell_type": "code",
   "execution_count": null,
   "metadata": {},
   "outputs": [],
   "source": []
  },
  {
   "cell_type": "code",
   "execution_count": 225,
   "metadata": {},
   "outputs": [],
   "source": [
    "start_date = '1987-01-16'\n",
    "end_date = '2020-09-30'\n",
    "data = web.DataReader(name='aapl', data_source='yahoo',start=start_date, end= end_date)\n",
    "data = data.reset_index()"
   ]
  },
  {
   "cell_type": "code",
   "execution_count": null,
   "metadata": {},
   "outputs": [],
   "source": []
  },
  {
   "cell_type": "code",
   "execution_count": null,
   "metadata": {},
   "outputs": [],
   "source": []
  },
  {
   "cell_type": "code",
   "execution_count": null,
   "metadata": {},
   "outputs": [],
   "source": []
  },
  {
   "cell_type": "code",
   "execution_count": null,
   "metadata": {},
   "outputs": [],
   "source": []
  },
  {
   "cell_type": "code",
   "execution_count": null,
   "metadata": {},
   "outputs": [],
   "source": []
  },
  {
   "cell_type": "code",
   "execution_count": null,
   "metadata": {},
   "outputs": [],
   "source": []
  },
  {
   "cell_type": "code",
   "execution_count": null,
   "metadata": {},
   "outputs": [],
   "source": []
  },
  {
   "cell_type": "code",
   "execution_count": null,
   "metadata": {},
   "outputs": [],
   "source": []
  },
  {
   "cell_type": "code",
   "execution_count": null,
   "metadata": {},
   "outputs": [],
   "source": []
  },
  {
   "cell_type": "code",
   "execution_count": null,
   "metadata": {},
   "outputs": [],
   "source": []
  },
  {
   "cell_type": "code",
   "execution_count": null,
   "metadata": {},
   "outputs": [],
   "source": []
  },
  {
   "cell_type": "code",
   "execution_count": null,
   "metadata": {},
   "outputs": [],
   "source": []
  },
  {
   "cell_type": "code",
   "execution_count": null,
   "metadata": {},
   "outputs": [],
   "source": [
    "## draft    "
   ]
  },
  {
   "cell_type": "code",
   "execution_count": null,
   "metadata": {},
   "outputs": [],
   "source": []
  },
  {
   "cell_type": "code",
   "execution_count": null,
   "metadata": {},
   "outputs": [],
   "source": []
  },
  {
   "cell_type": "code",
   "execution_count": null,
   "metadata": {},
   "outputs": [],
   "source": []
  },
  {
   "cell_type": "code",
   "execution_count": null,
   "metadata": {},
   "outputs": [],
   "source": []
  },
  {
   "cell_type": "code",
   "execution_count": 4,
   "metadata": {},
   "outputs": [],
   "source": [
    "stocks = ['msft','ba','jnj','ge','dis']\n",
    "share_ratio = [10,5,10,5,8]\n",
    "start_date = '1987-01-16'\n",
    "end_date = '2020-09-30'\n",
    "stocks_df = []\n",
    "for stock in stocks:\n",
    "    data = web.DataReader(name=stock, data_source='yahoo',start=start_date, end= end_date)\n",
    "    data = data.reset_index()\n",
    "    stocks_df.append(data)"
   ]
  },
  {
   "cell_type": "code",
   "execution_count": 20,
   "metadata": {},
   "outputs": [],
   "source": [
    "bb = [data_preprocess(stock['Adj Close'],5) for stock, ratio in zip(stocks_df, share_ratio)]"
   ]
  },
  {
   "cell_type": "code",
   "execution_count": null,
   "metadata": {},
   "outputs": [],
   "source": []
  },
  {
   "cell_type": "code",
   "execution_count": 24,
   "metadata": {},
   "outputs": [
    {
     "data": {
      "text/plain": [
       "3"
      ]
     },
     "execution_count": 24,
     "metadata": {},
     "output_type": "execute_result"
    }
   ],
   "source": [
    "len(bb[0])"
   ]
  },
  {
   "cell_type": "code",
   "execution_count": 168,
   "metadata": {},
   "outputs": [
    {
     "data": {
      "text/plain": [
       "[<matplotlib.lines.Line2D at 0x13b4495fdc0>]"
      ]
     },
     "execution_count": 168,
     "metadata": {},
     "output_type": "execute_result"
    },
    {
     "data": {
      "image/png": "[encoded data removed]",
      "text/plain": [
       "<Figure size 432x288 with 1 Axes>"
      ]
     },
     "metadata": {
      "needs_background": "light"
     },
     "output_type": "display_data"
    }
   ],
   "source": [
    "plt.plot(VaR_long)"
   ]
  },
  {
   "cell_type": "code",
   "execution_count": 142,
   "metadata": {},
   "outputs": [],
   "source": [
    "loss = 10000 - sum(stocks_simu)"
   ]
  },
  {
   "cell_type": "code",
   "execution_count": 150,
   "metadata": {},
   "outputs": [],
   "source": [
    "p = [np.percentile(l,99,interpolation = 'lower') for l in loss]"
   ]
  },
  {
   "cell_type": "code",
   "execution_count": 152,
   "metadata": {
    "scrolled": true
   },
   "outputs": [
    {
     "data": {
      "text/plain": [
       "647.3741575233253"
      ]
     },
     "execution_count": 152,
     "metadata": {},
     "output_type": "execute_result"
    }
   ],
   "source": [
    "p[-1]"
   ]
  },
  {
   "cell_type": "code",
   "execution_count": null,
   "metadata": {},
   "outputs": [],
   "source": []
  },
  {
   "cell_type": "code",
   "execution_count": null,
   "metadata": {},
   "outputs": [],
   "source": []
  },
  {
   "cell_type": "code",
   "execution_count": null,
   "metadata": {},
   "outputs": [],
   "source": []
  },
  {
   "cell_type": "code",
   "execution_count": null,
   "metadata": {},
   "outputs": [],
   "source": []
  },
  {
   "cell_type": "code",
   "execution_count": null,
   "metadata": {},
   "outputs": [],
   "source": []
  },
  {
   "cell_type": "code",
   "execution_count": null,
   "metadata": {},
   "outputs": [],
   "source": []
  },
  {
   "cell_type": "code",
   "execution_count": null,
   "metadata": {},
   "outputs": [],
   "source": []
  },
  {
   "cell_type": "code",
   "execution_count": null,
   "metadata": {},
   "outputs": [],
   "source": []
  },
  {
   "cell_type": "code",
   "execution_count": null,
   "metadata": {},
   "outputs": [],
   "source": []
  },
  {
   "cell_type": "code",
   "execution_count": null,
   "metadata": {},
   "outputs": [],
   "source": []
  },
  {
   "cell_type": "code",
   "execution_count": null,
   "metadata": {},
   "outputs": [],
   "source": []
  },
  {
   "cell_type": "code",
   "execution_count": null,
   "metadata": {},
   "outputs": [],
   "source": []
  },
  {
   "cell_type": "code",
   "execution_count": null,
   "metadata": {},
   "outputs": [],
   "source": []
  },
  {
   "cell_type": "code",
   "execution_count": null,
   "metadata": {},
   "outputs": [],
   "source": []
  },
  {
   "cell_type": "code",
   "execution_count": null,
   "metadata": {},
   "outputs": [],
   "source": []
  },
  {
   "cell_type": "code",
   "execution_count": null,
   "metadata": {},
   "outputs": [],
   "source": []
  },
  {
   "cell_type": "code",
   "execution_count": null,
   "metadata": {},
   "outputs": [],
   "source": []
  },
  {
   "cell_type": "code",
   "execution_count": null,
   "metadata": {},
   "outputs": [],
   "source": []
  },
  {
   "cell_type": "code",
   "execution_count": null,
   "metadata": {},
   "outputs": [],
   "source": []
  },
  {
   "cell_type": "code",
   "execution_count": null,
   "metadata": {},
   "outputs": [],
   "source": []
  },
  {
   "cell_type": "code",
   "execution_count": null,
   "metadata": {},
   "outputs": [],
   "source": []
  },
  {
   "cell_type": "code",
   "execution_count": null,
   "metadata": {},
   "outputs": [],
   "source": []
  },
  {
   "cell_type": "code",
   "execution_count": null,
   "metadata": {},
   "outputs": [],
   "source": []
  },
  {
   "cell_type": "code",
   "execution_count": null,
   "metadata": {},
   "outputs": [],
   "source": []
  },
  {
   "cell_type": "code",
   "execution_count": null,
   "metadata": {},
   "outputs": [],
   "source": []
  },
  {
   "cell_type": "code",
   "execution_count": null,
   "metadata": {},
   "outputs": [],
   "source": []
  },
  {
   "cell_type": "code",
   "execution_count": null,
   "metadata": {},
   "outputs": [],
   "source": []
  },
  {
   "cell_type": "code",
   "execution_count": null,
   "metadata": {},
   "outputs": [],
   "source": []
  },
  {
   "cell_type": "code",
   "execution_count": null,
   "metadata": {},
   "outputs": [],
   "source": []
  },
  {
   "cell_type": "code",
   "execution_count": 543,
   "metadata": {},
   "outputs": [],
   "source": [
    "shares_multi = v0/sum([stock[\"Adj Close\"]*w for stock, w in zip(stocks_df, share_ratio)])\n",
    "\n",
    "sigma_list = []\n",
    "mu_list = []\n",
    "log_return_list = []\n",
    "stock_v_list = []\n",
    "Ev_i = []\n",
    "Ev_i_2 = []\n",
    "share_list = []\n",
    "for stock, ratio in zip(stocks_df, share_ratio):\n",
    "    \n",
    "    price = stock['Adj Close']\n",
    "    \n",
    "    sigma, mu, log_return = data_preprocess(price,5)\n",
    "    sigma_list.append(sigma)\n",
    "    mu_list.append(mu)\n",
    "    log_return_list.append(log_return)\n",
    "    \n",
    "    share = ratio*shares_multi\n",
    "    share_list.append(share)\n",
    "    \n",
    "    stock_v = share*price\n",
    "    stock_v_list.append(stock_v)\n",
    "    \n",
    "    Ev_i.append(stock_v*np.exp(mu*5/252))\n",
    "    Ev_i_2.append(stock_v**2*np.exp((2*mu+sigma**2)*5/252))\n",
    "    \n"
   ]
  },
  {
   "cell_type": "code",
   "execution_count": 551,
   "metadata": {
    "scrolled": true
   },
   "outputs": [
    {
     "name": "stdout",
     "output_type": "stream",
     "text": [
      "0 1\n"
     ]
    }
   ],
   "source": [
    "returns = pd.DataFrame(log_return_list).T\n",
    "corr_matrix = returns.rolling(window*252).corr()\n",
    "corr_m = np.array([np.matrix(corr_matrix.loc[n,:]) for n in range(0,len(stocks_df[0]))])\n",
    "\n",
    "Eij_list = []\n",
    "for i in range(0,len(stocks_df)):\n",
    "    for j in range(i+1,len(stocks_df)):\n",
    "        print(i,j)\n",
    "        corr = [corr_m[n][i][j] for n in range(0,len(corr_m))]\n",
    "        \n",
    "        Eij =  2*stock_v_list[i]*stock_v_list[j]*np.exp((mu_list[i]+mu_list[j]+sigma_list[i]*sigma_list[j]*corr)*5/252)\n",
    "        Eij_list.append(Eij)    "
   ]
  },
  {
   "cell_type": "code",
   "execution_count": 560,
   "metadata": {
    "scrolled": true
   },
   "outputs": [
    {
     "data": {
      "text/plain": [
       "[<matplotlib.lines.Line2D at 0x1e11b131070>]"
      ]
     },
     "execution_count": 560,
     "metadata": {},
     "output_type": "execute_result"
    },
    {
     "data": {
      "image/png": "[encoded data removed]",
      "text/plain": [
       "<Figure size 432x288 with 1 Axes>"
      ]
     },
     "metadata": {
      "needs_background": "light"
     },
     "output_type": "display_data"
    }
   ],
   "source": [
    "EV = sum(Ev_i)\n",
    "EV_2 = sum(Eij_list) + sum(Ev_i_2)\n",
    "var = EV_2 - EV**2\n",
    "VaR = v0- (EV + norm.ppf(1-0.99)*var**0.5)\n",
    "plt.plot(VaR)"
   ]
  },
  {
   "cell_type": "code",
   "execution_count": null,
   "metadata": {},
   "outputs": [],
   "source": [
    "def distribution_step_2(stock_values, mu, sigma, corr):\n",
    "    v_i = []\n",
    "    v_i_2 = []\n",
    "    for i,j,k in zip(stock_values,mu,sigma):\n",
    "        v_i.append(i*np.exp(j*5/252))\n",
    "        v_i_2.append(i**2*np.exp((2*j+k**2)*5/252))\n",
    "        \n",
    "    "
   ]
  },
  {
   "cell_type": "code",
   "execution_count": 308,
   "metadata": {},
   "outputs": [
    {
     "data": {
      "text/plain": [
       "0       10000.0\n",
       "1       10000.0\n",
       "2       10000.0\n",
       "3       10000.0\n",
       "4       10000.0\n",
       "         ...   \n",
       "8491    10000.0\n",
       "8492    10000.0\n",
       "8493    10000.0\n",
       "8494    10000.0\n",
       "8495    10000.0\n",
       "Name: Adj Close, Length: 8496, dtype: float64"
      ]
     },
     "execution_count": 308,
     "metadata": {},
     "output_type": "execute_result"
    }
   ],
   "source": [
    "def distribution(stocks_df, share_ratio):\n",
    "    sigma_list = []\n",
    "    mu_list = []\n",
    "    log_return_list = []\n",
    "    stock_v_list = []\n",
    "    for stock, ratio in zip(stocks_df, share_ratio):\n",
    "        price = stock['Adj Close']\n",
    "        sigma, mu, log_return = data_preprocess(price,5)\n",
    "        sigma_list.append(sigma)\n",
    "        mu_list.append(mu)\n",
    "        log_return_list.append(log_return)\n",
    "        share = ratio*shares_multi\n",
    "        stock_v = share*price\n",
    "        stock_v_list.append(stock_v)\n",
    "    \n",
    "    \n",
    "    \n",
    "    "
   ]
  },
  {
   "cell_type": "code",
   "execution_count": null,
   "metadata": {},
   "outputs": [],
   "source": []
  },
  {
   "cell_type": "code",
   "execution_count": null,
   "metadata": {},
   "outputs": [],
   "source": []
  },
  {
   "cell_type": "code",
   "execution_count": null,
   "metadata": {},
   "outputs": [],
   "source": []
  },
  {
   "cell_type": "code",
   "execution_count": 158,
   "metadata": {},
   "outputs": [],
   "source": [
    "v0 = 10000\n",
    "VaR_P = 0.99 \n",
    "risk_day = 5\n",
    "\n",
    "\n",
    "## portfolio\n",
    "price = sum([stock[\"Adj Close\"]*ratio for stock, ratio in zip(stocks_df,share_ratio)])\n"
   ]
  },
  {
   "cell_type": "raw",
   "metadata": {},
   "source": [
    "ln(S_t/S_0) = (mu - sigma^2/2)*t + sigma*W_t\n",
    "mean = (mu - sigma^2/2)*t\n",
    "sd = sigma*t^0.5"
   ]
  },
  {
   "cell_type": "code",
   "execution_count": 167,
   "metadata": {},
   "outputs": [],
   "source": [
    "## log return\n",
    "\n",
    "log_return = np.log(price/price.shift(1))\n",
    "\n",
    "## log return**2\n",
    "\n",
    "log_return_sq = log_return**2\n",
    "\n",
    "## ma sd of log return\n",
    "## ma\n",
    "window = 5\n",
    "#if exponential = 1:\n",
    "#    ma = log_return.ewm(alpha = 0.05,min_periods=window).mean()\n",
    "#else:\n",
    "delta_t = 1/252\n",
    "ma = log_return.rolling(window*252).mean() ## daily log return moving average\n",
    "variance = log_return_sq.rolling(window*252).mean() - ma**2 #daily log return variance\n",
    "sd = variance**0.5  #daily log return variance\n",
    "sigma = sd/(delta_t)**0.5   #yearly\n",
    "mu = ma/delta_t + (sigma**2)/2  #yearly"
   ]
  },
  {
   "cell_type": "code",
   "execution_count": 168,
   "metadata": {},
   "outputs": [],
   "source": [
    "#VaR\n",
    "shares = v0/price\n",
    "value_0 = shares*price\n",
    "value_t_long = shares*price * np.exp(sigma* ((risk_day/252)**0.5) * norm.ppf(1-VaR_P) + (mu - sigma**2/2)*(risk_day/252))\n",
    "value_t_short = shares*price * np.exp(sigma* ((risk_day/252)**0.5) * norm.ppf(VaR_P) + (mu - sigma**2/2)*(risk_day/252))\n",
    "\n",
    "long_VaR = value_0 - value_t_long\n",
    "short_VaR = value_0 - (value_0 + value_0 - value_t_short)"
   ]
  },
  {
   "cell_type": "code",
   "execution_count": 189,
   "metadata": {},
   "outputs": [
    {
     "data": {
      "text/plain": [
       "[<matplotlib.lines.Line2D at 0x1e111b78910>]"
      ]
     },
     "execution_count": 189,
     "metadata": {},
     "output_type": "execute_result"
    },
    {
     "data": {
      "image/png": "[encoded data removed]",
      "text/plain": [
       "<Figure size 432x288 with 1 Axes>"
      ]
     },
     "metadata": {
      "needs_background": "light"
     },
     "output_type": "display_data"
    }
   ],
   "source": [
    "plt.plot(stocks_df[0]['Date'][15*252:],long_VaR[15*252:])"
   ]
  },
  {
   "cell_type": "code",
   "execution_count": 191,
   "metadata": {},
   "outputs": [
    {
     "data": {
      "text/plain": [
       "[<matplotlib.lines.Line2D at 0x1e112eea9d0>]"
      ]
     },
     "execution_count": 191,
     "metadata": {},
     "output_type": "execute_result"
    },
    {
     "data": {
      "image/png": "[encoded data removed]",
      "text/plain": [
       "<Figure size 432x288 with 1 Axes>"
      ]
     },
     "metadata": {
      "needs_background": "light"
     },
     "output_type": "display_data"
    }
   ],
   "source": [
    "plt.plot(stocks_df[0]['Date'][15*252:],short_VaR[15*252:])"
   ]
  },
  {
   "cell_type": "markdown",
   "metadata": {},
   "source": [
    "## portfolio GBM"
   ]
  },
  {
   "cell_type": "code",
   "execution_count": 250,
   "metadata": {},
   "outputs": [
    {
     "data": {
      "text/plain": [
       "[           Date        High         Low        Open       Close       Volume  \\\n",
       " 0    1987-01-16    0.219618    0.210069    0.219618    0.214410   65433600.0   \n",
       " 1    1987-01-19    0.222222    0.210069    0.214410    0.222222   88243200.0   \n",
       " 2    1987-01-20    0.230903    0.221354    0.222222    0.225694   95760000.0   \n",
       " 3    1987-01-21    0.241319    0.221354    0.225694    0.235243  108489600.0   \n",
       " 4    1987-01-22    0.259549    0.228299    0.235243    0.258681  116035200.0   \n",
       " ...         ...         ...         ...         ...         ...          ...   \n",
       " 8491 2020-09-24  205.570007  199.199997  199.850006  203.190002   31202500.0   \n",
       " 8492 2020-09-25  209.039993  202.539993  203.550003  207.820007   29437300.0   \n",
       " 8493 2020-09-28  212.570007  208.059998  210.880005  209.440002   32004900.0   \n",
       " 8494 2020-09-29  210.070007  206.809998  209.350006  207.259995   24221900.0   \n",
       " 8495 2020-09-30  211.979996  206.539993  207.729996  210.330002   33829100.0   \n",
       " \n",
       "        Adj Close  \n",
       " 0       0.135869  \n",
       " 1       0.140819  \n",
       " 2       0.143019  \n",
       " 3       0.149071  \n",
       " 4       0.163923  \n",
       " ...          ...  \n",
       " 8491  201.727921  \n",
       " 8492  206.324615  \n",
       " 8493  207.932953  \n",
       " 8494  205.768631  \n",
       " 8495  208.816544  \n",
       " \n",
       " [8496 rows x 7 columns],\n",
       "            Date        High         Low        Open       Close      Volume  \\\n",
       " 0    1987-01-16   11.805556   11.194444   11.777778   11.333333   9765000.0   \n",
       " 1    1987-01-19   11.333333   10.972222   11.333333   11.277778   5580000.0   \n",
       " 2    1987-01-20   11.444444   11.277778   11.277778   11.416667   5670000.0   \n",
       " 3    1987-01-21   11.500000   11.333333   11.416667   11.333333   4082850.0   \n",
       " 4    1987-01-22   11.527778   11.333333   11.333333   11.416667   3904200.0   \n",
       " ...         ...         ...         ...         ...         ...         ...   \n",
       " 8491 2020-09-24  150.309998  145.020004  150.289993  146.050003  27098100.0   \n",
       " 8492 2020-09-25  156.309998  146.419998  146.850006  156.029999  29123000.0   \n",
       " 8493 2020-09-28  168.000000  159.199997  160.330002  166.080002  38868200.0   \n",
       " 8494 2020-09-29  165.500000  162.009995  164.770004  163.600006  19874700.0   \n",
       " 8495 2020-09-30  170.979996  164.110001  164.500000  165.259995  38436700.0   \n",
       " \n",
       "        Adj Close  \n",
       " 0       5.659149  \n",
       " 1       5.631408  \n",
       " 2       5.700761  \n",
       " 3       5.659149  \n",
       " 4       5.700761  \n",
       " ...          ...  \n",
       " 8491  146.050003  \n",
       " 8492  156.029999  \n",
       " 8493  166.080002  \n",
       " 8494  163.600006  \n",
       " 8495  165.259995  \n",
       " \n",
       " [8496 rows x 7 columns],\n",
       "            Date        High         Low        Open       Close      Volume  \\\n",
       " 0    1987-01-16    4.585938    4.492188    4.546875    4.546875  17920000.0   \n",
       " 1    1987-01-19    4.687500    4.500000    4.562500    4.687500  10627200.0   \n",
       " 2    1987-01-20    4.703125    4.562500    4.687500    4.593750   9705600.0   \n",
       " 3    1987-01-21    4.664063    4.531250    4.531250    4.593750   9923200.0   \n",
       " 4    1987-01-22    4.687500    4.562500    4.562500    4.687500  14728000.0   \n",
       " ...         ...         ...         ...         ...         ...         ...   \n",
       " 8491 2020-09-24  145.250000  143.339996  144.559998  144.669998   5614800.0   \n",
       " 8492 2020-09-25  146.250000  143.889999  144.000000  145.660004   5531200.0   \n",
       " 8493 2020-09-28  148.289993  146.419998  146.729996  147.110001   5843200.0   \n",
       " 8494 2020-09-29  147.919998  146.059998  147.600006  147.059998   6768600.0   \n",
       " 8495 2020-09-30  149.729996  146.839996  147.449997  148.880005   8487700.0   \n",
       " \n",
       "        Adj Close  \n",
       " 0       2.062326  \n",
       " 1       2.126109  \n",
       " 2       2.083587  \n",
       " 3       2.083587  \n",
       " 4       2.126109  \n",
       " ...          ...  \n",
       " 8491  141.896042  \n",
       " 8492  142.867065  \n",
       " 8493  144.289246  \n",
       " 8494  144.240204  \n",
       " 8495  146.025314  \n",
       " \n",
       " [8496 rows x 7 columns],\n",
       "            Date      High       Low      Open     Close      Volume  Adj Close\n",
       " 0    1987-01-16  3.806090  3.720954  3.756010  3.766026  49920000.0   1.496474\n",
       " 1    1987-01-19  3.831130  3.740986  3.766026  3.801082  40185600.0   1.510403\n",
       " 2    1987-01-20  3.871194  3.796074  3.831130  3.871194  48172800.0   1.538263\n",
       " 3    1987-01-21  3.966346  3.831130  3.851162  3.891226  39686400.0   1.546223\n",
       " 4    1987-01-22  4.066506  3.871194  3.876202  4.066506  32448000.0   1.615872\n",
       " ...         ...       ...       ...       ...       ...         ...        ...\n",
       " 8491 2020-09-24  6.180000  6.000000  6.100000  6.060000  95469800.0   6.039985\n",
       " 8492 2020-09-25  6.170000  6.020000  6.060000  6.110000  79778700.0   6.099886\n",
       " 8493 2020-09-28  6.310000  6.180000  6.230000  6.200000  83292800.0   6.189737\n",
       " 8494 2020-09-29  6.230000  6.060000  6.210000  6.120000  73571600.0   6.109869\n",
       " 8495 2020-09-30  6.290000  6.140000  6.140000  6.230000  96781600.0   6.219687\n",
       " \n",
       " [8496 rows x 7 columns],\n",
       "            Date        High         Low        Open       Close      Volume  \\\n",
       " 0    1987-01-16    4.172073    4.089865    4.151521    4.110417   9074506.0   \n",
       " 1    1987-01-19    4.192625    4.069313    4.110417    4.192625   7277851.0   \n",
       " 2    1987-01-20    4.346766    4.254281    4.254281    4.285109  11427065.0   \n",
       " 3    1987-01-21    4.521458    4.223453    4.285109    4.398146  14232134.0   \n",
       " 4    1987-01-22    4.603667    4.398146    4.398146    4.603667  21165737.0   \n",
       " ...         ...         ...         ...         ...         ...         ...   \n",
       " 8491 2020-09-24  123.800003  120.779999  121.930000  122.489998   8480000.0   \n",
       " 8492 2020-09-25  124.190002  120.980003  121.360001  124.000000   6851800.0   \n",
       " 8493 2020-09-28  126.860001  125.370003  125.750000  125.989998   6283700.0   \n",
       " 8494 2020-09-29  126.290001  123.680000  125.919998  125.400002   7405800.0   \n",
       " 8495 2020-09-30  125.550003  123.239998  123.239998  124.080002  13642500.0   \n",
       " \n",
       "        Adj Close  \n",
       " 0       2.971470  \n",
       " 1       3.030899  \n",
       " 2       3.097758  \n",
       " 3       3.179475  \n",
       " 4       3.328047  \n",
       " ...          ...  \n",
       " 8491  122.489998  \n",
       " 8492  124.000000  \n",
       " 8493  125.989998  \n",
       " 8494  125.400002  \n",
       " 8495  124.080002  \n",
       " \n",
       " [8496 rows x 7 columns]]"
      ]
     },
     "execution_count": 250,
     "metadata": {},
     "output_type": "execute_result"
    }
   ],
   "source": [
    "stocks_df"
   ]
  },
  {
   "cell_type": "code",
   "execution_count": null,
   "metadata": {},
   "outputs": [],
   "source": []
  }
 ],
 "metadata": {
  "kernelspec": {
   "display_name": "Python 3",
   "language": "python",
   "name": "python3"
  },
  "language_info": {
   "codemirror_mode": {
    "name": "ipython",
    "version": 3
   },
   "file_extension": ".py",
   "mimetype": "text/x-python",
   "name": "python",
   "nbconvert_exporter": "python",
   "pygments_lexer": "ipython3",
   "version": "3.7.3"
  }
 },
 "nbformat": 4,
 "nbformat_minor": 4
}
